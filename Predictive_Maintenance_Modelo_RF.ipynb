{
 "cells": [
  {
   "cell_type": "markdown",
   "id": "9ca51605-8874-4e7f-a454-b4bdecee34a2",
   "metadata": {},
   "source": [
    "## Entrenamiento del Modelo Random Forest"
   ]
  },
  {
   "cell_type": "markdown",
   "id": "6731cd5a-606e-4fe7-b3ed-ad610e953832",
   "metadata": {},
   "source": [
    "### Autor: Chavez Aquino, Cecilio"
   ]
  },
  {
   "cell_type": "markdown",
   "id": "4b594db8-0f9a-4666-9632-696f7e23e790",
   "metadata": {},
   "source": [
    "### Librerías"
   ]
  },
  {
   "cell_type": "code",
   "execution_count": null,
   "id": "ab32aa2d-70aa-4c7a-a150-38269f2875f9",
   "metadata": {},
   "outputs": [],
   "source": [
    "import scipy.io as sio\n",
    "import numpy as np\n",
    "import pandas as pd\n",
    "import matplotlib.pyplot as plt\n",
    "from sklearn.model_selection import train_test_split\n",
    "from sklearn.ensemble import RandomForestClassifier\n",
    "from sklearn.metrics import classification_report, confusion_matrix, accuracy_score\n",
    "from sklearn.model_selection import cross_val_score"
   ]
  },
  {
   "cell_type": "markdown",
   "id": "cc59ffee-d431-487d-96d8-cd3268c0e217",
   "metadata": {},
   "source": [
    "### Carga y lectura de datos acústicos"
   ]
  },
  {
   "cell_type": "code",
   "execution_count": 2,
   "id": "132c2724-5d53-456c-a327-454824df3ebc",
   "metadata": {},
   "outputs": [
    {
     "name": "stdout",
     "output_type": "stream",
     "text": [
      "Claves del archivo .mat: dict_keys(['__header__', '__version__', '__globals__', 'normal', 'inner', 'roller', 'outer'])\n",
      "Dimensiones de normal: (1, 120000)\n",
      "Dimensiones de inner: (1, 120000)\n",
      "Dimensiones de outer: (1, 120000)\n",
      "Dimensiones de roller: (1, 120000)\n",
      "          0         1         2         3         4         5         6  \\\n",
      "0  0.088662  0.058621 -0.056952 -0.058621 -0.049859 -0.015646  0.092208   \n",
      "1 -0.083004 -0.195734  0.233419  0.103958 -0.181115  0.055553  0.173806   \n",
      "2  0.008528  0.423550  0.012995 -0.265175  0.237155  0.590858 -0.092994   \n",
      "3 -0.002761 -0.096324  0.113705  0.257297 -0.058314 -0.126050  0.207430   \n",
      "\n",
      "          7         8         9  ...    119991    119992    119993    119994  \\\n",
      "0  0.060498 -0.000209  0.026286  ... -0.055492 -0.016272  0.050276  0.090956   \n",
      "1 -0.046944 -0.111918  0.059614  ...  0.176080  0.005523  0.230171  0.044995   \n",
      "2 -0.406900  0.279388  0.436950  ...  0.059289 -0.258678 -0.125481  0.265581   \n",
      "3  0.172669 -0.219937 -0.156100  ... -0.248851 -0.437113  0.217501  0.236343   \n",
      "\n",
      "     119995    119996    119997    119998    119999   label  \n",
      "0  0.081569 -0.035882 -0.123083 -0.040680  0.040054  normal  \n",
      "1 -0.173318 -0.274190 -0.337703 -0.243328  0.111755   inner  \n",
      "2  0.057258 -0.303754 -0.074314  0.414210  0.096649   outer  \n",
      "3 -0.281338 -0.092913  0.402189  0.172831 -0.123776  roller  \n",
      "\n",
      "[4 rows x 120001 columns]\n"
     ]
    }
   ],
   "source": [
    "# Dataset: https://www.kaggle.com/datasets/julienjta/engine-acoustic-emissions/data\n",
    "file_dataset = \"D:/Rodamientos/dataset.mat\"\n",
    "\n",
    "# Cargar datos desde el archivo .mat\n",
    "data = sio.loadmat(file_dataset)\n",
    "\n",
    "# Inspeccionar las claves del archivo .mat\n",
    "print(\"Claves del archivo .mat:\", data.keys())\n",
    "\n",
    "# Extraer los datos relevantes\n",
    "# Asumiendo que las señales están almacenadas en matrices dentro de las claves correspondientes\n",
    "signal_normal = data['normal']\n",
    "signal_inner = data['inner']\n",
    "signal_outer = data['outer']\n",
    "signal_roller = data['roller']\n",
    "\n",
    "# Inspección de las dimensiones\n",
    "print(\"Dimensiones de normal:\", signal_normal.shape)\n",
    "print(\"Dimensiones de inner:\", signal_inner.shape)\n",
    "print(\"Dimensiones de outer:\", signal_outer.shape)\n",
    "print(\"Dimensiones de roller:\", signal_roller.shape)\n",
    "\n",
    "# Creación de un DataFrame para manejar los datos\n",
    "# Concatenar señales y etiquetas\n",
    "labels_normal = np.full(signal_normal.shape[0], 'normal')\n",
    "labels_inner = np.full(signal_inner.shape[0], 'inner')\n",
    "labels_outer = np.full(signal_outer.shape[0], 'outer')\n",
    "labels_roller = np.full(signal_roller.shape[0], 'roller')\n",
    "\n",
    "# Concatenar señales y etiquetas en un DataFrame\n",
    "signals = np.concatenate([signal_normal, signal_inner, signal_outer, signal_roller])\n",
    "labels = np.concatenate([labels_normal, labels_inner, labels_outer, labels_roller])\n",
    "\n",
    "df = pd.DataFrame(signals)\n",
    "df['label'] = labels\n",
    "\n",
    "# Mostrar una muestra del DataFrame\n",
    "print(df.head())\n"
   ]
  },
  {
   "cell_type": "markdown",
   "id": "cc2dd062-d659-4053-b508-90b4877ec75d",
   "metadata": {},
   "source": [
    "### Segmentación de datos"
   ]
  },
  {
   "cell_type": "code",
   "execution_count": 11,
   "id": "97df92f2-7b2a-40ee-9a3e-544333898aaa",
   "metadata": {},
   "outputs": [
    {
     "name": "stdout",
     "output_type": "stream",
     "text": [
      "Segmentos de normal: (120, 1, 1000)\n",
      "Segmentos de inner: (120, 1, 1000)\n",
      "Segmentos de outer: (120, 1, 1000)\n",
      "Segmentos de roller: (120, 1, 1000)\n",
      "Número esperado de segmentos: 480\n",
      "Número total de segmentos procesados: 480\n",
      "          0         1         2         3         4         5         6  \\\n",
      "0  0.088662  0.058621 -0.056952 -0.058621 -0.049859 -0.015646  0.092208   \n",
      "1  0.047564  0.026286  0.043392  0.004590 -0.029415  0.016898  0.009596   \n",
      "2 -0.006676  0.017315  0.021905  0.044644  0.102639  0.014603 -0.078857   \n",
      "3  0.164180  0.170022  0.100344  0.104725  0.066757  0.077188  0.099927   \n",
      "4 -0.015646  0.011682  0.100135  0.067591  0.006258  0.012726  0.013977   \n",
      "\n",
      "          7         8         9  ...       991       992       993       994  \\\n",
      "0  0.060498 -0.000209  0.026286  ...  0.027120  0.001043  0.013769  0.030041   \n",
      "1  0.030875  0.060707  0.001252  ...  0.003129  0.078648  0.110149  0.044435   \n",
      "2 -0.059247 -0.089496 -0.023782  ...  0.003546  0.018358  0.014186  0.112861   \n",
      "3  0.049859  0.045895  0.065714  ...  0.064671  0.010014  0.006050 -0.015646   \n",
      "4  0.083238  0.088662  0.017732  ...  0.002921  0.015020 -0.027329 -0.065714   \n",
      "\n",
      "        995       996       997       998       999   label  \n",
      "0  0.009388  0.055492  0.078648  0.014812  0.054449  normal  \n",
      "1  0.026494  0.031710  0.016481  0.094503  0.068009  normal  \n",
      "2  0.119745  0.054866  0.078439  0.039428  0.035465  normal  \n",
      "3 -0.028789  0.058204  0.044435 -0.009179  0.017941  normal  \n",
      "4 -0.044435 -0.076353 -0.076353  0.023156 -0.019610  normal  \n",
      "\n",
      "[5 rows x 1001 columns]\n",
      "label\n",
      "normal    120\n",
      "inner     120\n",
      "outer     120\n",
      "roller    120\n",
      "Name: count, dtype: int64\n"
     ]
    }
   ],
   "source": [
    "# Configuración del tamaño del segmento\n",
    "segment_size = 1000  # En este caso consideraresmos un ancho de segmento de 1000 puntos\n",
    "\n",
    "# Función para segmentar una señal\n",
    "def segment_signal(signal, segment_size):\n",
    "    \"\"\"\n",
    "    Divide una señal en segmentos de tamaño fijo.\n",
    "    Incluye un segmento adicional si hay puntos sobrantes.\n",
    "    \"\"\"\n",
    "    segments = []\n",
    "    for i in range(0, signal.shape[1], segment_size):\n",
    "        segment = signal[:, i:i + segment_size]\n",
    "        if segment.shape[1] == segment_size:  # Solo incluir segmentos completos\n",
    "            segments.append(segment)\n",
    "    return np.array(segments)\n",
    "\n",
    "# Segmentación de cada clase\n",
    "segments_normal = segment_signal(signal_normal, segment_size)\n",
    "segments_inner = segment_signal(signal_inner, segment_size)\n",
    "segments_outer = segment_signal(signal_outer, segment_size)\n",
    "segments_roller = segment_signal(signal_roller, segment_size)\n",
    "\n",
    "# Comprobación de dimensiones\n",
    "print(\"Segmentos de normal:\", segments_normal.shape)\n",
    "print(\"Segmentos de inner:\", segments_inner.shape)\n",
    "print(\"Segmentos de outer:\", segments_outer.shape)\n",
    "print(\"Segmentos de roller:\", segments_roller.shape)\n",
    "\n",
    "# Etiquetas correspondientes para los segmentos\n",
    "labels_normal = ['normal'] * segments_normal.shape[0]\n",
    "labels_inner = ['inner'] * segments_inner.shape[0]\n",
    "labels_outer = ['outer'] * segments_outer.shape[0]\n",
    "labels_roller = ['roller'] * segments_roller.shape[0]\n",
    "\n",
    "# Concatenar todos los segmentos y etiquetas\n",
    "all_segments = np.concatenate([\n",
    "    segments_normal[:, 0, :],  # Quitar el eje adicional\n",
    "    segments_inner[:, 0, :],\n",
    "    segments_outer[:, 0, :],\n",
    "    segments_roller[:, 0, :]\n",
    "])\n",
    "all_labels = labels_normal + labels_inner + labels_outer + labels_roller\n",
    "\n",
    "# Creación de un DataFrame con segmentos como filas\n",
    "df_segments = pd.DataFrame(all_segments)  # Cada punto como columna\n",
    "df_segments['label'] = all_labels\n",
    "\n",
    "# Validación del número total de segmentos procesados\n",
    "expected_segments = sum([signal.shape[1] // segment_size for signal in [signal_normal, signal_inner, signal_outer, signal_roller]])\n",
    "print(\"Número esperado de segmentos:\", expected_segments)\n",
    "print(\"Número total de segmentos procesados:\", df_segments.shape[0])\n",
    "\n",
    "# Mostrar una muestra del DataFrame\n",
    "print(df_segments.head())\n",
    "print(df_segments['label'].value_counts())  # Verificar conteo de etiquetas\n"
   ]
  },
  {
   "cell_type": "markdown",
   "id": "43874caa-4e20-4002-84d0-21a070eb66d1",
   "metadata": {},
   "source": [
    "### Extracción de características relevantes"
   ]
  },
  {
   "cell_type": "code",
   "execution_count": 13,
   "id": "9c635a02-86e8-4d86-8cf9-1ec7f74ad8e1",
   "metadata": {},
   "outputs": [
    {
     "name": "stdout",
     "output_type": "stream",
     "text": [
      "       mean   std_dev       rms  skewness  kurtosis    energy  crest_factor  \\\n",
      "0  0.012259  0.072942  0.073965 -0.137909 -0.086100  5.470782      3.689176   \n",
      "1  0.012962  0.077543  0.078619 -0.061312 -0.136312  6.180984      2.884344   \n",
      "2  0.011351  0.072466  0.073350  0.018915 -0.211844  5.380204      2.983475   \n",
      "3  0.011022  0.072936  0.073765 -0.085545 -0.123557  5.441210      3.379609   \n",
      "4  0.010780  0.071629  0.072436 -0.145249 -0.098327  5.246927      3.047049   \n",
      "\n",
      "   freq_dom    amp_dom  spectral_energy  spectral_entropy   label  \n",
      "0    1730.0  25.710841      5470.781864          8.780105  normal  \n",
      "1    1730.0  28.138167      6180.984091          8.687947  normal  \n",
      "2    1730.0  27.611058      5380.203814          8.785213  normal  \n",
      "3    1730.0  26.082861      5441.210115          8.768204  normal  \n",
      "4    1730.0  26.641552      5246.926788          8.827190  normal  \n",
      "Dimensiones del DataFrame de características: (480, 12)\n",
      "label\n",
      "normal    120\n",
      "inner     120\n",
      "outer     120\n",
      "roller    120\n",
      "Name: count, dtype: int64\n"
     ]
    }
   ],
   "source": [
    "# Convertir todos los valores del DataFrame de segmentos a tipo float\n",
    "df_segments.iloc[:, :-1] = df_segments.iloc[:, :-1].apply(pd.to_numeric)\n",
    "\n",
    "# Función para calcular características del dominio temporal\n",
    "def extract_time_features(segment):\n",
    "    \"\"\"\n",
    "    Extrae características del dominio temporal de un segmento.\n",
    "    \"\"\"\n",
    "    segment = np.array(segment, dtype=float)  # Asegurar tipo float\n",
    "    features = {\n",
    "        'mean': np.mean(segment),\n",
    "        'std_dev': np.std(segment),\n",
    "        'rms': np.sqrt(np.mean(segment**2)),\n",
    "        'skewness': skew(segment),\n",
    "        'kurtosis': kurtosis(segment),\n",
    "        'energy': np.sum(segment**2),\n",
    "        'crest_factor': np.max(np.abs(segment)) / np.sqrt(np.mean(segment**2))\n",
    "    }\n",
    "    return features\n",
    "\n",
    "# Función para calcular características del dominio de frecuencia\n",
    "def extract_freq_features(segment, sampling_rate=10000):\n",
    "    \"\"\"\n",
    "    Extrae características del dominio de frecuencia de un segmento.\n",
    "    \"\"\"\n",
    "    segment = np.array(segment, dtype=float)  # Asegurar tipo float\n",
    "    # FFT\n",
    "    fft_vals = np.abs(fft(segment))\n",
    "    fft_freq = np.fft.fftfreq(len(segment), d=1/sampling_rate)\n",
    "\n",
    "    # Características\n",
    "    freq_features = {\n",
    "        'freq_dom': fft_freq[np.argmax(fft_vals[:len(fft_vals)//2])],  # Frecuencia dominante\n",
    "        'amp_dom': np.max(fft_vals[:len(fft_vals)//2]),  # Amplitud de la frecuencia dominante\n",
    "        'spectral_energy': np.sum(fft_vals**2),\n",
    "        'spectral_entropy': -np.sum((fft_vals / np.sum(fft_vals)) * np.log2(fft_vals / np.sum(fft_vals) + 1e-12))  # Entropía espectral\n",
    "    }\n",
    "    return freq_features\n",
    "\n",
    "# Extracción de características para todos los segmentos\n",
    "features = []\n",
    "for idx, row in df_segments.iterrows():\n",
    "    segment = row[:-1].to_numpy(dtype=float)  # Asegurar tipo float\n",
    "    time_features = extract_time_features(segment)\n",
    "    freq_features = extract_freq_features(segment)\n",
    "    combined_features = {**time_features, **freq_features, 'label': row['label']}\n",
    "    features.append(combined_features)\n",
    "\n",
    "# Crear DataFrame de características\n",
    "df_features = pd.DataFrame(features)\n",
    "\n",
    "# Mostrar las primeras filas del DataFrame\n",
    "print(df_features.head())\n",
    "print(\"Dimensiones del DataFrame de características:\", df_features.shape)\n",
    "print(df_features['label'].value_counts())\n"
   ]
  },
  {
   "cell_type": "markdown",
   "id": "76fc3df7-59e0-4938-b9d2-e3617fb6f697",
   "metadata": {},
   "source": [
    "### Partición de datos (70% 15% 15%)"
   ]
  },
  {
   "cell_type": "code",
   "execution_count": 16,
   "id": "c09849c3-14aa-4890-bd26-6b0e765f4a4b",
   "metadata": {},
   "outputs": [
    {
     "name": "stdout",
     "output_type": "stream",
     "text": [
      "Tamaño del conjunto de entrenamiento: 336\n",
      "Tamaño del conjunto de validación: 72\n",
      "Tamaño del conjunto de prueba: 72\n",
      "\n",
      "Distribución en el conjunto de entrenamiento:\n",
      "label\n",
      "roller    84\n",
      "inner     84\n",
      "outer     84\n",
      "normal    84\n",
      "Name: count, dtype: int64\n",
      "\n",
      "Distribución en el conjunto de validación:\n",
      "label\n",
      "roller    18\n",
      "inner     18\n",
      "outer     18\n",
      "normal    18\n",
      "Name: count, dtype: int64\n",
      "\n",
      "Distribución en el conjunto de prueba:\n",
      "label\n",
      "outer     18\n",
      "normal    18\n",
      "inner     18\n",
      "roller    18\n",
      "Name: count, dtype: int64\n"
     ]
    }
   ],
   "source": [
    "# Separar características y etiquetas\n",
    "X = df_features.iloc[:, :-1]  # Todas las columnas excepto 'label'\n",
    "y = df_features['label']      # Columna de etiquetas\n",
    "\n",
    "# Dividir en entrenamiento (70%) y restante (30%)\n",
    "X_train, X_temp, y_train, y_temp = train_test_split(X, y, test_size=0.3, stratify=y, random_state=42)\n",
    "\n",
    "# Dividir el restante (30%) en validación (15%) y prueba (15%)\n",
    "X_val, X_test, y_val, y_test = train_test_split(X_temp, y_temp, test_size=0.5, stratify=y_temp, random_state=42)\n",
    "\n",
    "# Imprimir resultados esperados\n",
    "print(\"Tamaño del conjunto de entrenamiento:\", X_train.shape[0])\n",
    "print(\"Tamaño del conjunto de validación:\", X_val.shape[0])\n",
    "print(\"Tamaño del conjunto de prueba:\", X_test.shape[0])\n",
    "\n",
    "# Verificar la distribución de etiquetas en cada conjunto\n",
    "print(\"\\nDistribución en el conjunto de entrenamiento:\")\n",
    "print(y_train.value_counts())\n",
    "\n",
    "print(\"\\nDistribución en el conjunto de validación:\")\n",
    "print(y_val.value_counts())\n",
    "\n",
    "print(\"\\nDistribución en el conjunto de prueba:\")\n",
    "print(y_test.value_counts())\n"
   ]
  },
  {
   "cell_type": "markdown",
   "id": "3b394eaf-e1ac-4778-b22b-a2d5c2372f29",
   "metadata": {},
   "source": [
    "### Entrenamiento, evaluación y matriz de confusión del Modelo Forest"
   ]
  },
  {
   "cell_type": "code",
   "execution_count": 25,
   "id": "5294b847-3f0b-4cc9-848c-84387d33f506",
   "metadata": {},
   "outputs": [
    {
     "name": "stdout",
     "output_type": "stream",
     "text": [
      "Reporte de clasificación (Validación):\n",
      "              precision    recall  f1-score   support\n",
      "\n",
      "       inner       1.00      1.00      1.00        18\n",
      "      normal       1.00      1.00      1.00        18\n",
      "       outer       1.00      1.00      1.00        18\n",
      "      roller       1.00      1.00      1.00        18\n",
      "\n",
      "    accuracy                           1.00        72\n",
      "   macro avg       1.00      1.00      1.00        72\n",
      "weighted avg       1.00      1.00      1.00        72\n",
      "\n"
     ]
    },
    {
     "data": {
      "image/png": "[encoded data removed]",
      "text/plain": [
       "<Figure size 800x600 with 2 Axes>"
      ]
     },
     "metadata": {},
     "output_type": "display_data"
    },
    {
     "name": "stdout",
     "output_type": "stream",
     "text": [
      "Reporte de clasificación (Prueba):\n",
      "              precision    recall  f1-score   support\n",
      "\n",
      "       inner       1.00      1.00      1.00        18\n",
      "      normal       1.00      1.00      1.00        18\n",
      "       outer       1.00      1.00      1.00        18\n",
      "      roller       1.00      1.00      1.00        18\n",
      "\n",
      "    accuracy                           1.00        72\n",
      "   macro avg       1.00      1.00      1.00        72\n",
      "weighted avg       1.00      1.00      1.00        72\n",
      "\n",
      "Precisión en el conjunto de prueba: 1.00\n"
     ]
    }
   ],
   "source": [
    "rf_model = RandomForestClassifier(\n",
    "    n_estimators=100,  # Número de árboles\n",
    "    max_depth=None,    # Sin límite de profundidad\n",
    "    random_state=42    # Reproducibilidad\n",
    ")\n",
    "\n",
    "# Entrenamiento del modelo\n",
    "rf_model.fit(X_train, y_train)\n",
    "\n",
    "# Evaluación en el conjunto de validación\n",
    "y_val_pred = rf_model.predict(X_val)\n",
    "\n",
    "# Métricas en validación\n",
    "print(\"Reporte de clasificación (Validación):\")\n",
    "print(classification_report(y_val, y_val_pred))\n",
    "\n",
    "# Matriz de confusión para validación\n",
    "conf_matrix = confusion_matrix(y_val, y_val_pred, labels=y_train.unique())\n",
    "\n",
    "# Visualización de la matriz de confusión\n",
    "plt.figure(figsize=(8, 6))\n",
    "plt.imshow(conf_matrix, interpolation='nearest', cmap=plt.cm.Blues)\n",
    "plt.title(\"Matriz de Confusión - Validación\")\n",
    "plt.colorbar()\n",
    "tick_marks = np.arange(len(y_train.unique()))\n",
    "plt.xticks(tick_marks, y_train.unique(), rotation=45)\n",
    "plt.yticks(tick_marks, y_train.unique())\n",
    "plt.xlabel(\"Predicción\")\n",
    "plt.ylabel(\"Verdadero\")\n",
    "\n",
    "# Anotar valores en la matriz\n",
    "for i in range(conf_matrix.shape[0]):\n",
    "    for j in range(conf_matrix.shape[1]):\n",
    "        plt.text(j, i, format(conf_matrix[i, j], 'd'),\n",
    "                 ha=\"center\", va=\"center\",\n",
    "                 color=\"white\" if conf_matrix[i, j] > conf_matrix.max() / 2 else \"black\")\n",
    "\n",
    "plt.tight_layout()\n",
    "plt.show()\n",
    "\n",
    "# Evaluación final en el conjunto de prueba\n",
    "y_test_pred = rf_model.predict(X_test)\n",
    "\n",
    "# Métricas en prueba\n",
    "print(\"Reporte de clasificación (Prueba):\")\n",
    "print(classification_report(y_test, y_test_pred))\n",
    "print(f\"Precisión en el conjunto de prueba: {accuracy_score(y_test, y_test_pred):.2f}\")\n",
    "\n"
   ]
  },
  {
   "cell_type": "markdown",
   "id": "72ae8e53-5609-4d39-9965-f57eadc0f445",
   "metadata": {},
   "source": [
    "### Validación cruzada para verifiar sobreajuste"
   ]
  },
  {
   "cell_type": "code",
   "execution_count": 26,
   "id": "20ae3f21-c24f-4e59-b3ac-b546ecc0ab00",
   "metadata": {},
   "outputs": [
    {
     "name": "stdout",
     "output_type": "stream",
     "text": [
      "Resultados de validación cruzada (precisión en cada partición): [1. 1. 1. 1. 1.]\n",
      "Precisión media de la validación cruzada: 1.0\n",
      "Desviación estándar de la validación cruzada: 0.0\n"
     ]
    }
   ],
   "source": [
    "rf_model = RandomForestClassifier(\n",
    "    n_estimators=100,  # Número de árboles\n",
    "    max_depth=None,     # Sin límite de profundidad\n",
    "    random_state=42     # Reproducibilidad\n",
    ")\n",
    "\n",
    "# Realizar validación cruzada con 5 particiones (5-fold cross-validation)\n",
    "cv_scores = cross_val_score(rf_model, X, y, cv=5, scoring='accuracy')\n",
    "\n",
    "# Mostrar resultados\n",
    "print(\"Resultados de validación cruzada (precisión en cada partición):\", cv_scores)\n",
    "print(\"Precisión media de la validación cruzada:\", np.mean(cv_scores))\n",
    "print(\"Desviación estándar de la validación cruzada:\", np.std(cv_scores))\n"
   ]
  },
  {
   "cell_type": "markdown",
   "id": "7d1f2666-b37f-4d41-a72a-42c0b660290b",
   "metadata": {},
   "source": [
    "#### No se confirma sobreajuste"
   ]
  },
  {
   "cell_type": "code",
   "execution_count": null,
   "id": "54146501-ed1c-4444-82ac-9aea29364d22",
   "metadata": {},
   "outputs": [],
   "source": []
  }
 ],
 "metadata": {
  "kernelspec": {
   "display_name": "Python 3 (ipykernel)",
   "language": "python",
   "name": "python3"
  },
  "language_info": {
   "codemirror_mode": {
    "name": "ipython",
    "version": 3
   },
   "file_extension": ".py",
   "mimetype": "text/x-python",
   "name": "python",
   "nbconvert_exporter": "python",
   "pygments_lexer": "ipython3",
   "version": "3.11.7"
  }
 },
 "nbformat": 4,
 "nbformat_minor": 5
}
