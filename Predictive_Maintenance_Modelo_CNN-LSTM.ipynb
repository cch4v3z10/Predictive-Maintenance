{
 "cells": [
  {
   "cell_type": "markdown",
   "id": "15ab42f5-bbcf-4004-af68-e2c813e58909",
   "metadata": {
    "id": "15ab42f5-bbcf-4004-af68-e2c813e58909"
   },
   "source": [
    "## Entrenamiento del Modelo LSTM"
   ]
  },
  {
   "cell_type": "markdown",
   "id": "e9f40017-e2ab-4e45-bd05-92734e4014f0",
   "metadata": {
    "id": "e9f40017-e2ab-4e45-bd05-92734e4014f0"
   },
   "source": [
    "### Autor: Chavez Aquino, Cecilio"
   ]
  },
  {
   "cell_type": "markdown",
   "id": "b3884f93-decd-4685-b05f-cf19b25e5ac1",
   "metadata": {
    "id": "b3884f93-decd-4685-b05f-cf19b25e5ac1"
   },
   "source": [
    "### Librerías"
   ]
  },
  {
   "cell_type": "code",
   "execution_count": 1,
   "id": "85483dc2-ceb8-4140-b2c7-93275337780e",
   "metadata": {
    "id": "85483dc2-ceb8-4140-b2c7-93275337780e"
   },
   "outputs": [],
   "source": [
    "import scipy.io as sio\n",
    "import numpy as np\n",
    "from scipy.ndimage import zoom\n",
    "from sklearn.model_selection import train_test_split\n",
    "from tensorflow.keras.models import Sequential\n",
    "from tensorflow.keras.layers import LSTM, Dense, Dropout, Input, Conv1D, MaxPooling1D, Flatten\n",
    "from tensorflow.keras.callbacks import EarlyStopping, ModelCheckpoint\n",
    "from sklearn.metrics import confusion_matrix, classification_report\n",
    "import seaborn as sns\n",
    "import matplotlib.pyplot as plt\n",
    "from tensorflow.keras.models import load_model"
   ]
  },
  {
   "cell_type": "markdown",
   "id": "a227f9dc-5efd-49a7-ae10-6ce3740c6fb0",
   "metadata": {
    "id": "a227f9dc-5efd-49a7-ae10-6ce3740c6fb0"
   },
   "source": [
    "### Carga y lectura de datos acústicos"
   ]
  },
  {
   "cell_type": "code",
   "execution_count": null,
   "id": "1ce23d94-1f05-4835-98af-7e96004e042f",
   "metadata": {
    "id": "1ce23d94-1f05-4835-98af-7e96004e042f",
    "outputId": "8ca6e6db-22af-4eb7-eb12-3aea59c82b6e"
   },
   "outputs": [
    {
     "name": "stdout",
     "output_type": "stream",
     "text": [
      "Dimensiones de las señales: (480000,)\n",
      "Dimensiones de las etiquetas: (480000,)\n",
      "Distribución de clases:\n",
      "Clase 0: 120000 muestras\n",
      "Clase 1: 120000 muestras\n",
      "Clase 2: 120000 muestras\n",
      "Clase 3: 120000 muestras\n"
     ]
    }
   ],
   "source": [
    "# Dataset: https://www.kaggle.com/datasets/julienjta/engine-acoustic-emissions/data\n",
    "file_dataset = \"D:/Rodamientos/dataset.mat\"\n",
    "\n",
    "# Cargar datos desde el archivo .mat\n",
    "data = sio.loadmat(file_dataset)\n",
    "\n",
    "# Extraer señales por clase (cada fila contiene 120000 muestras)\n",
    "signals_normal = data['normal'].flatten()  # Señales de clase 'normal'\n",
    "signals_inner = data['inner'].flatten()    # Señales de clase 'inner'\n",
    "signals_roller = data['roller'].flatten()  # Señales de clase 'roller'\n",
    "signals_outer = data['outer'].flatten()    # Señales de clase 'outer'\n",
    "\n",
    "# Crear las etiquetas correspondientes\n",
    "labels_normal = np.zeros(len(signals_normal))  # Etiqueta 0 para 'normal'\n",
    "labels_inner = np.ones(len(signals_inner))    # Etiqueta 1 para 'inner'\n",
    "labels_roller = np.full(len(signals_roller), 2)  # Etiqueta 2 para 'roller'\n",
    "labels_outer = np.full(len(signals_outer), 3)    # Etiqueta 3 para 'outer'\n",
    "\n",
    "# Concatenar todas las señales y etiquetas\n",
    "signals = np.concatenate([signals_normal, signals_inner, signals_roller, signals_outer], axis=0)\n",
    "labels = np.concatenate([labels_normal, labels_inner, labels_roller, labels_outer], axis=0)\n",
    "\n",
    "# Confirmar las dimensiones de las señales y etiquetas\n",
    "print(\"Dimensiones de las señales:\", signals.shape)\n",
    "print(\"Dimensiones de las etiquetas:\", labels.shape)\n",
    "\n",
    "# Distribución de clases\n",
    "unique, counts = np.unique(labels, return_counts=True)\n",
    "print(\"Distribución de clases:\")\n",
    "for label, count in zip(unique, counts):\n",
    "    print(f\"Clase {int(label)}: {count} muestras\")"
   ]
  },
  {
   "cell_type": "markdown",
   "id": "2d9a7e52-d28a-4b83-9858-27338bd2cce5",
   "metadata": {
    "id": "2d9a7e52-d28a-4b83-9858-27338bd2cce5"
   },
   "source": [
    "### Segmentación de las señales"
   ]
  },
  {
   "cell_type": "code",
   "execution_count": null,
   "id": "rVAqiZlcbTWU",
   "metadata": {
    "id": "rVAqiZlcbTWU",
    "outputId": "ef6fc84c-daee-4e3a-cadd-ea31d0e5e59f"
   },
   "outputs": [
    {
     "name": "stdout",
     "output_type": "stream",
     "text": [
      "Dimensiones de las señales segmentadas: (240, 2000)\n",
      "Dimensiones de las etiquetas segmentadas: (240,)\n",
      "Distribución de clases tras segmentación:\n",
      "Clase 0: 60 muestras\n",
      "Clase 1: 60 muestras\n",
      "Clase 2: 60 muestras\n",
      "Clase 3: 60 muestras\n"
     ]
    }
   ],
   "source": [
    "fs = 10000  # Frecuencia de muestreo (Hz)\n",
    "window_duration = 0.2  # Duración del ancho del segmento\n",
    "window_size = int(fs * window_duration)  # Tamaño de la ventana (número de puntos)\n",
    "\n",
    "# Función de segmentación corregida\n",
    "def segment_signals(signals, labels, window_size):\n",
    "    segmented_signals = []\n",
    "    segmented_labels = []\n",
    "\n",
    "    # Índices iniciales para cada clase\n",
    "    class_indices = [0]  # Inicia en 0\n",
    "    for i in range(1, len(np.unique(labels))):\n",
    "        class_indices.append(class_indices[-1] + 120000)  # 120,000 muestras por clase\n",
    "\n",
    "    for class_id, start_idx in enumerate(class_indices):\n",
    "        end_idx = start_idx + 120000  # Fin de las muestras para esta clase\n",
    "        class_signals = signals[start_idx:end_idx]  # Extraer señales de esta clase\n",
    "\n",
    "        # Generar ventanas para la clase actual\n",
    "        for i in range(0, len(class_signals), window_size):\n",
    "            if i + window_size <= len(class_signals):  # Asegurar que no exceda el límite\n",
    "                segmented_signals.append(class_signals[i:i+window_size])\n",
    "                segmented_labels.append(class_id)  # Etiqueta de la clase actual\n",
    "\n",
    "    return np.array(segmented_signals), np.array(segmented_labels)\n",
    "\n",
    "# Aplicar segmentación corregida\n",
    "segmented_signals, segmented_labels = segment_signals(signals, labels, window_size)\n",
    "\n",
    "# Confirmar dimensiones\n",
    "print(\"Dimensiones de las señales segmentadas:\", segmented_signals.shape)\n",
    "print(\"Dimensiones de las etiquetas segmentadas:\", segmented_labels.shape)\n",
    "\n",
    "# Distribución de clases\n",
    "unique, counts = np.unique(segmented_labels, return_counts=True)\n",
    "print(\"Distribución de clases tras segmentación:\")\n",
    "for label, count in zip(unique, counts):\n",
    "    print(f\"Clase {int(label)}: {count} muestras\")\n"
   ]
  },
  {
   "cell_type": "markdown",
   "id": "f566e2d4-d8bf-4a01-94a6-00ac97097d3b",
   "metadata": {
    "id": "f566e2d4-d8bf-4a01-94a6-00ac97097d3b"
   },
   "source": [
    "### Aumento de datos"
   ]
  },
  {
   "cell_type": "code",
   "execution_count": null,
   "id": "j1Fz7LAwbYih",
   "metadata": {
    "id": "j1Fz7LAwbYih",
    "outputId": "2372fefb-87e5-44fd-bda7-6b4770ac5121"
   },
   "outputs": [
    {
     "name": "stdout",
     "output_type": "stream",
     "text": [
      "Dimensiones tras aumento de datos:\n",
      "Señales: (1440, 2000)\n",
      "Etiquetas: (1440,)\n",
      "Distribución de clases tras aumento de datos:\n",
      "Clase 0: 360 muestras\n",
      "Clase 1: 360 muestras\n",
      "Clase 2: 360 muestras\n",
      "Clase 3: 360 muestras\n"
     ]
    }
   ],
   "source": [
    "def add_noise(signals, noise_factor=0.005):\n",
    "    noisy_signals = signals + noise_factor * np.random.normal(0, 1, signals.shape)\n",
    "    return np.clip(noisy_signals, -1, 1)  # Limitar valores para evitar saturación\n",
    "\n",
    "# Función para desplazar señales en el tiempo\n",
    "def shift_signal(signals, shift=50):\n",
    "    return np.roll(signals, shift, axis=1)  # Desplazar a la derecha (shift positivo)\n",
    "\n",
    "# Función para escalar señales\n",
    "def scale_signal(signals, scale_factor=1.1):\n",
    "    return signals * scale_factor\n",
    "\n",
    "# Función para estiramiento temporal\n",
    "def time_stretch(signals, stretch_factor=1.1):\n",
    "    stretched_signals = []\n",
    "    for signal in signals:\n",
    "        stretched = zoom(signal, stretch_factor, order=1)  # Interpolación lineal\n",
    "        if len(stretched) > signals.shape[1]:  # Recortar si es más largo\n",
    "            stretched = stretched[:signals.shape[1]]\n",
    "        else:  # Rellenar con ceros si es más corto\n",
    "            stretched = np.pad(stretched, (0, signals.shape[1] - len(stretched)))\n",
    "        stretched_signals.append(stretched)\n",
    "    return np.array(stretched_signals)\n",
    "\n",
    "# Función para desplazamiento de tono (Pitch Shifting)\n",
    "def pitch_shift(signals, shift_factor=1.05):\n",
    "    return signals * shift_factor  # Simula cambio de tono modificando frecuencia base\n",
    "\n",
    "# Aplicar aumento de datos\n",
    "augmented_signals = []\n",
    "augmented_labels = []\n",
    "\n",
    "for signal, label in zip(segmented_signals, segmented_labels):\n",
    "    # Original\n",
    "    augmented_signals.append(signal)\n",
    "    augmented_labels.append(label)\n",
    "\n",
    "    # Con ruido\n",
    "    augmented_signals.append(add_noise(signal[np.newaxis, :])[0])\n",
    "    augmented_labels.append(label)\n",
    "\n",
    "    # Con desplazamiento temporal\n",
    "    augmented_signals.append(shift_signal(signal[np.newaxis, :])[0])\n",
    "    augmented_labels.append(label)\n",
    "\n",
    "    # Con escalado\n",
    "    augmented_signals.append(scale_signal(signal[np.newaxis, :])[0])\n",
    "    augmented_labels.append(label)\n",
    "\n",
    "    # Con estiramiento temporal\n",
    "    augmented_signals.append(time_stretch(signal[np.newaxis, :])[0])\n",
    "    augmented_labels.append(label)\n",
    "\n",
    "    # Con desplazamiento de tono\n",
    "    augmented_signals.append(pitch_shift(signal[np.newaxis, :])[0])\n",
    "    augmented_labels.append(label)\n",
    "\n",
    "# Convertir a arrays numpy\n",
    "augmented_signals = np.array(augmented_signals)\n",
    "augmented_labels = np.array(augmented_labels)\n",
    "\n",
    "# Confirmar dimensiones tras aumento\n",
    "print(\"Dimensiones tras aumento de datos:\")\n",
    "print(\"Señales:\", augmented_signals.shape)\n",
    "print(\"Etiquetas:\", augmented_labels.shape)\n",
    "\n",
    "# Verificar distribución de clases\n",
    "unique, counts = np.unique(augmented_labels, return_counts=True)\n",
    "print(\"Distribución de clases tras aumento de datos:\")\n",
    "for label, count in zip(unique, counts):\n",
    "    print(f\"Clase {int(label)}: {count} muestras\")\n"
   ]
  },
  {
   "cell_type": "markdown",
   "id": "b9eb12fc-c207-4099-9547-6b6865d3b5a2",
   "metadata": {
    "id": "b9eb12fc-c207-4099-9547-6b6865d3b5a2"
   },
   "source": [
    "### Estandarización"
   ]
  },
  {
   "cell_type": "markdown",
   "id": "cdf3506d-b7de-4a1c-8c0d-987ff92b3ab4",
   "metadata": {
    "id": "cdf3506d-b7de-4a1c-8c0d-987ff92b3ab4"
   },
   "source": [
    "#### En este caso, la estandarización es recomendable ya que permite que el modelo aprenda patrones temporales sin verse afectado por diferencias en la escala de las amplitudes."
   ]
  },
  {
   "cell_type": "code",
   "execution_count": null,
   "id": "olQPG3LobcpV",
   "metadata": {
    "id": "olQPG3LobcpV",
    "outputId": "d3da20a3-2453-4c58-d01b-da0b88fb1c1b"
   },
   "outputs": [
    {
     "name": "stdout",
     "output_type": "stream",
     "text": [
      "Dimensiones de las señales estandarizadas: (1440, 2000)\n",
      "Media de algunas muestras tras estandarización (esperado ≈ 0): [-3.06421555e-17 -1.15463195e-17 -2.44249065e-17 -2.22044605e-17\n",
      "  5.63993297e-17]\n",
      "Desviación estándar de algunas muestras tras estandarización (esperado ≈ 1): [0.99999987 0.99999987 0.99999987 0.99999988 0.99999986]\n"
     ]
    }
   ],
   "source": [
    "def standardize_signals(signals):\n",
    "    mean = np.mean(signals, axis=1, keepdims=True)  # Media por muestra\n",
    "    std = np.std(signals, axis=1, keepdims=True)    # Desviación estándar por muestra\n",
    "    standardized_signals = (signals - mean) / (std + 1e-8)  # Normalización evitando división por cero\n",
    "    return standardized_signals\n",
    "\n",
    "# Aplicar estandarización\n",
    "standardized_signals = standardize_signals(augmented_signals)\n",
    "\n",
    "# Confirmar dimensiones tras la estandarización\n",
    "print(\"Dimensiones de las señales estandarizadas:\", standardized_signals.shape)\n",
    "\n",
    "# Verificar estadísticas básicas\n",
    "print(\"Media de algunas muestras tras estandarización (esperado ≈ 0):\", np.mean(standardized_signals, axis=1)[:5])\n",
    "print(\"Desviación estándar de algunas muestras tras estandarización (esperado ≈ 1):\", np.std(standardized_signals, axis=1)[:5])\n"
   ]
  },
  {
   "cell_type": "markdown",
   "id": "3e05d6f3-acdf-4616-be44-1c1eea8ac67c",
   "metadata": {
    "id": "3e05d6f3-acdf-4616-be44-1c1eea8ac67c"
   },
   "source": [
    "### Reformateo de las señales"
   ]
  },
  {
   "cell_type": "code",
   "execution_count": null,
   "id": "sLMBBKsibrug",
   "metadata": {
    "id": "sLMBBKsibrug",
    "outputId": "314cc0b7-c81d-45c9-cb31-74b984afabee"
   },
   "outputs": [
    {
     "name": "stdout",
     "output_type": "stream",
     "text": [
      "Dimensiones finales de las señales para LSTM: (1440, 2000, 1)\n",
      "Dimensiones de las etiquetas para LSTM: (1440,)\n"
     ]
    }
   ],
   "source": [
    "lstm_signals = standardized_signals[..., np.newaxis]\n",
    "\n",
    "# Confirmar dimensiones finales\n",
    "print(\"Dimensiones finales de las señales para LSTM:\", lstm_signals.shape)\n",
    "print(\"Dimensiones de las etiquetas para LSTM:\", augmented_labels.shape)"
   ]
  },
  {
   "cell_type": "markdown",
   "id": "ab4eabb8-0f6c-4573-8fb8-757a2248a58f",
   "metadata": {
    "id": "ab4eabb8-0f6c-4573-8fb8-757a2248a58f"
   },
   "source": [
    "### Partición de datos (70% 15% 15%)"
   ]
  },
  {
   "cell_type": "code",
   "execution_count": null,
   "id": "9a2af6ee-b464-4b85-9bd2-db65895e1b7f",
   "metadata": {
    "id": "9a2af6ee-b464-4b85-9bd2-db65895e1b7f",
    "outputId": "7b3789e8-de76-48c1-a2d2-bdbba32c0402"
   },
   "outputs": [
    {
     "name": "stdout",
     "output_type": "stream",
     "text": [
      "Dimensiones del conjunto de entrenamiento: (1008, 2000, 1) (1008,)\n",
      "Dimensiones del conjunto de validación: (216, 2000, 1) (216,)\n",
      "Dimensiones del conjunto de prueba: (216, 2000, 1) (216,)\n",
      "\n",
      "Distribución de clases en entrenamiento:\n",
      "Clase 0: 252 muestras\n",
      "Clase 1: 252 muestras\n",
      "Clase 2: 252 muestras\n",
      "Clase 3: 252 muestras\n",
      "\n",
      "Distribución de clases en validación:\n",
      "Clase 0: 54 muestras\n",
      "Clase 1: 54 muestras\n",
      "Clase 2: 54 muestras\n",
      "Clase 3: 54 muestras\n",
      "\n",
      "Distribución de clases en prueba:\n",
      "Clase 0: 54 muestras\n",
      "Clase 1: 54 muestras\n",
      "Clase 2: 54 muestras\n",
      "Clase 3: 54 muestras\n"
     ]
    }
   ],
   "source": [
    "train_signals, temp_signals, train_labels, temp_labels = train_test_split(\n",
    "    lstm_signals, augmented_labels, test_size=0.30, stratify=augmented_labels, random_state=42\n",
    ")\n",
    "\n",
    "val_signals, test_signals, val_labels, test_labels = train_test_split(\n",
    "    temp_signals, temp_labels, test_size=0.50, stratify=temp_labels, random_state=42\n",
    ")\n",
    "\n",
    "# Confirmar dimensiones de los conjuntos\n",
    "print(\"Dimensiones del conjunto de entrenamiento:\", train_signals.shape, train_labels.shape)\n",
    "print(\"Dimensiones del conjunto de validación:\", val_signals.shape, val_labels.shape)\n",
    "print(\"Dimensiones del conjunto de prueba:\", test_signals.shape, test_labels.shape)\n",
    "\n",
    "# Verificar la distribución de clases en cada conjunto\n",
    "unique_train, counts_train = np.unique(train_labels, return_counts=True)\n",
    "unique_val, counts_val = np.unique(val_labels, return_counts=True)\n",
    "unique_test, counts_test = np.unique(test_labels, return_counts=True)\n",
    "\n",
    "print(\"\\nDistribución de clases en entrenamiento:\")\n",
    "for label, count in zip(unique_train, counts_train):\n",
    "    print(f\"Clase {int(label)}: {count} muestras\")\n",
    "\n",
    "print(\"\\nDistribución de clases en validación:\")\n",
    "for label, count in zip(unique_val, counts_val):\n",
    "    print(f\"Clase {int(label)}: {count} muestras\")\n",
    "\n",
    "print(\"\\nDistribución de clases en prueba:\")\n",
    "for label, count in zip(unique_test, counts_test):\n",
    "    print(f\"Clase {int(label)}: {count} muestras\")\n",
    "\n"
   ]
  },
  {
   "cell_type": "markdown",
   "id": "442aa72c-9cb0-4b3f-a2fb-c2ef1bc3ffd8",
   "metadata": {
    "id": "442aa72c-9cb0-4b3f-a2fb-c2ef1bc3ffd8"
   },
   "source": [
    "### Modelo LSTM"
   ]
  },
  {
   "cell_type": "code",
   "execution_count": null,
   "id": "fbf3b14e-2003-4b59-a8c8-0ae3f9ab76bb",
   "metadata": {
    "id": "fbf3b14e-2003-4b59-a8c8-0ae3f9ab76bb",
    "outputId": "a3b0cf0d-ffc8-4049-d870-d7a244b4fa9a"
   },
   "outputs": [
    {
     "data": {
      "text/html": [
       "<pre style=\"white-space:pre;overflow-x:auto;line-height:normal;font-family:Menlo,'DejaVu Sans Mono',consolas,'Courier New',monospace\"><span style=\"font-weight: bold\">Model: \"sequential_5\"</span>\n",
       "</pre>\n"
      ],
      "text/plain": [
       "\u001b[1mModel: \"sequential_5\"\u001b[0m\n"
      ]
     },
     "metadata": {},
     "output_type": "display_data"
    },
    {
     "data": {
      "text/html": [
       "<pre style=\"white-space:pre;overflow-x:auto;line-height:normal;font-family:Menlo,'DejaVu Sans Mono',consolas,'Courier New',monospace\">┏━━━━━━━━━━━━━━━━━━━━━━━━━━━━━━━━━┳━━━━━━━━━━━━━━━━━━━━━━━━┳━━━━━━━━━━━━━━━┓\n",
       "┃<span style=\"font-weight: bold\"> Layer (type)                    </span>┃<span style=\"font-weight: bold\"> Output Shape           </span>┃<span style=\"font-weight: bold\">       Param # </span>┃\n",
       "┡━━━━━━━━━━━━━━━━━━━━━━━━━━━━━━━━━╇━━━━━━━━━━━━━━━━━━━━━━━━╇━━━━━━━━━━━━━━━┩\n",
       "│ conv1d_4 (<span style=\"color: #0087ff; text-decoration-color: #0087ff\">Conv1D</span>)               │ (<span style=\"color: #00d7ff; text-decoration-color: #00d7ff\">None</span>, <span style=\"color: #00af00; text-decoration-color: #00af00\">1996</span>, <span style=\"color: #00af00; text-decoration-color: #00af00\">32</span>)       │           <span style=\"color: #00af00; text-decoration-color: #00af00\">192</span> │\n",
       "├─────────────────────────────────┼────────────────────────┼───────────────┤\n",
       "│ max_pooling1d_4 (<span style=\"color: #0087ff; text-decoration-color: #0087ff\">MaxPooling1D</span>)  │ (<span style=\"color: #00d7ff; text-decoration-color: #00d7ff\">None</span>, <span style=\"color: #00af00; text-decoration-color: #00af00\">998</span>, <span style=\"color: #00af00; text-decoration-color: #00af00\">32</span>)        │             <span style=\"color: #00af00; text-decoration-color: #00af00\">0</span> │\n",
       "├─────────────────────────────────┼────────────────────────┼───────────────┤\n",
       "│ lstm_10 (<span style=\"color: #0087ff; text-decoration-color: #0087ff\">LSTM</span>)                  │ (<span style=\"color: #00d7ff; text-decoration-color: #00d7ff\">None</span>, <span style=\"color: #00af00; text-decoration-color: #00af00\">998</span>, <span style=\"color: #00af00; text-decoration-color: #00af00\">64</span>)        │        <span style=\"color: #00af00; text-decoration-color: #00af00\">24,832</span> │\n",
       "├─────────────────────────────────┼────────────────────────┼───────────────┤\n",
       "│ dropout_17 (<span style=\"color: #0087ff; text-decoration-color: #0087ff\">Dropout</span>)            │ (<span style=\"color: #00d7ff; text-decoration-color: #00d7ff\">None</span>, <span style=\"color: #00af00; text-decoration-color: #00af00\">998</span>, <span style=\"color: #00af00; text-decoration-color: #00af00\">64</span>)        │             <span style=\"color: #00af00; text-decoration-color: #00af00\">0</span> │\n",
       "├─────────────────────────────────┼────────────────────────┼───────────────┤\n",
       "│ lstm_11 (<span style=\"color: #0087ff; text-decoration-color: #0087ff\">LSTM</span>)                  │ (<span style=\"color: #00d7ff; text-decoration-color: #00d7ff\">None</span>, <span style=\"color: #00af00; text-decoration-color: #00af00\">32</span>)             │        <span style=\"color: #00af00; text-decoration-color: #00af00\">12,416</span> │\n",
       "├─────────────────────────────────┼────────────────────────┼───────────────┤\n",
       "│ dropout_18 (<span style=\"color: #0087ff; text-decoration-color: #0087ff\">Dropout</span>)            │ (<span style=\"color: #00d7ff; text-decoration-color: #00d7ff\">None</span>, <span style=\"color: #00af00; text-decoration-color: #00af00\">32</span>)             │             <span style=\"color: #00af00; text-decoration-color: #00af00\">0</span> │\n",
       "├─────────────────────────────────┼────────────────────────┼───────────────┤\n",
       "│ dense_10 (<span style=\"color: #0087ff; text-decoration-color: #0087ff\">Dense</span>)                │ (<span style=\"color: #00d7ff; text-decoration-color: #00d7ff\">None</span>, <span style=\"color: #00af00; text-decoration-color: #00af00\">64</span>)             │         <span style=\"color: #00af00; text-decoration-color: #00af00\">2,112</span> │\n",
       "├─────────────────────────────────┼────────────────────────┼───────────────┤\n",
       "│ dropout_19 (<span style=\"color: #0087ff; text-decoration-color: #0087ff\">Dropout</span>)            │ (<span style=\"color: #00d7ff; text-decoration-color: #00d7ff\">None</span>, <span style=\"color: #00af00; text-decoration-color: #00af00\">64</span>)             │             <span style=\"color: #00af00; text-decoration-color: #00af00\">0</span> │\n",
       "├─────────────────────────────────┼────────────────────────┼───────────────┤\n",
       "│ dense_11 (<span style=\"color: #0087ff; text-decoration-color: #0087ff\">Dense</span>)                │ (<span style=\"color: #00d7ff; text-decoration-color: #00d7ff\">None</span>, <span style=\"color: #00af00; text-decoration-color: #00af00\">4</span>)              │           <span style=\"color: #00af00; text-decoration-color: #00af00\">260</span> │\n",
       "└─────────────────────────────────┴────────────────────────┴───────────────┘\n",
       "</pre>\n"
      ],
      "text/plain": [
       "┏━━━━━━━━━━━━━━━━━━━━━━━━━━━━━━━━━┳━━━━━━━━━━━━━━━━━━━━━━━━┳━━━━━━━━━━━━━━━┓\n",
       "┃\u001b[1m \u001b[0m\u001b[1mLayer (type)                   \u001b[0m\u001b[1m \u001b[0m┃\u001b[1m \u001b[0m\u001b[1mOutput Shape          \u001b[0m\u001b[1m \u001b[0m┃\u001b[1m \u001b[0m\u001b[1m      Param #\u001b[0m\u001b[1m \u001b[0m┃\n",
       "┡━━━━━━━━━━━━━━━━━━━━━━━━━━━━━━━━━╇━━━━━━━━━━━━━━━━━━━━━━━━╇━━━━━━━━━━━━━━━┩\n",
       "│ conv1d_4 (\u001b[38;5;33mConv1D\u001b[0m)               │ (\u001b[38;5;45mNone\u001b[0m, \u001b[38;5;34m1996\u001b[0m, \u001b[38;5;34m32\u001b[0m)       │           \u001b[38;5;34m192\u001b[0m │\n",
       "├─────────────────────────────────┼────────────────────────┼───────────────┤\n",
       "│ max_pooling1d_4 (\u001b[38;5;33mMaxPooling1D\u001b[0m)  │ (\u001b[38;5;45mNone\u001b[0m, \u001b[38;5;34m998\u001b[0m, \u001b[38;5;34m32\u001b[0m)        │             \u001b[38;5;34m0\u001b[0m │\n",
       "├─────────────────────────────────┼────────────────────────┼───────────────┤\n",
       "│ lstm_10 (\u001b[38;5;33mLSTM\u001b[0m)                  │ (\u001b[38;5;45mNone\u001b[0m, \u001b[38;5;34m998\u001b[0m, \u001b[38;5;34m64\u001b[0m)        │        \u001b[38;5;34m24,832\u001b[0m │\n",
       "├─────────────────────────────────┼────────────────────────┼───────────────┤\n",
       "│ dropout_17 (\u001b[38;5;33mDropout\u001b[0m)            │ (\u001b[38;5;45mNone\u001b[0m, \u001b[38;5;34m998\u001b[0m, \u001b[38;5;34m64\u001b[0m)        │             \u001b[38;5;34m0\u001b[0m │\n",
       "├─────────────────────────────────┼────────────────────────┼───────────────┤\n",
       "│ lstm_11 (\u001b[38;5;33mLSTM\u001b[0m)                  │ (\u001b[38;5;45mNone\u001b[0m, \u001b[38;5;34m32\u001b[0m)             │        \u001b[38;5;34m12,416\u001b[0m │\n",
       "├─────────────────────────────────┼────────────────────────┼───────────────┤\n",
       "│ dropout_18 (\u001b[38;5;33mDropout\u001b[0m)            │ (\u001b[38;5;45mNone\u001b[0m, \u001b[38;5;34m32\u001b[0m)             │             \u001b[38;5;34m0\u001b[0m │\n",
       "├─────────────────────────────────┼────────────────────────┼───────────────┤\n",
       "│ dense_10 (\u001b[38;5;33mDense\u001b[0m)                │ (\u001b[38;5;45mNone\u001b[0m, \u001b[38;5;34m64\u001b[0m)             │         \u001b[38;5;34m2,112\u001b[0m │\n",
       "├─────────────────────────────────┼────────────────────────┼───────────────┤\n",
       "│ dropout_19 (\u001b[38;5;33mDropout\u001b[0m)            │ (\u001b[38;5;45mNone\u001b[0m, \u001b[38;5;34m64\u001b[0m)             │             \u001b[38;5;34m0\u001b[0m │\n",
       "├─────────────────────────────────┼────────────────────────┼───────────────┤\n",
       "│ dense_11 (\u001b[38;5;33mDense\u001b[0m)                │ (\u001b[38;5;45mNone\u001b[0m, \u001b[38;5;34m4\u001b[0m)              │           \u001b[38;5;34m260\u001b[0m │\n",
       "└─────────────────────────────────┴────────────────────────┴───────────────┘\n"
      ]
     },
     "metadata": {},
     "output_type": "display_data"
    },
    {
     "data": {
      "text/html": [
       "<pre style=\"white-space:pre;overflow-x:auto;line-height:normal;font-family:Menlo,'DejaVu Sans Mono',consolas,'Courier New',monospace\"><span style=\"font-weight: bold\"> Total params: </span><span style=\"color: #00af00; text-decoration-color: #00af00\">39,812</span> (155.52 KB)\n",
       "</pre>\n"
      ],
      "text/plain": [
       "\u001b[1m Total params: \u001b[0m\u001b[38;5;34m39,812\u001b[0m (155.52 KB)\n"
      ]
     },
     "metadata": {},
     "output_type": "display_data"
    },
    {
     "data": {
      "text/html": [
       "<pre style=\"white-space:pre;overflow-x:auto;line-height:normal;font-family:Menlo,'DejaVu Sans Mono',consolas,'Courier New',monospace\"><span style=\"font-weight: bold\"> Trainable params: </span><span style=\"color: #00af00; text-decoration-color: #00af00\">39,812</span> (155.52 KB)\n",
       "</pre>\n"
      ],
      "text/plain": [
       "\u001b[1m Trainable params: \u001b[0m\u001b[38;5;34m39,812\u001b[0m (155.52 KB)\n"
      ]
     },
     "metadata": {},
     "output_type": "display_data"
    },
    {
     "data": {
      "text/html": [
       "<pre style=\"white-space:pre;overflow-x:auto;line-height:normal;font-family:Menlo,'DejaVu Sans Mono',consolas,'Courier New',monospace\"><span style=\"font-weight: bold\"> Non-trainable params: </span><span style=\"color: #00af00; text-decoration-color: #00af00\">0</span> (0.00 B)\n",
       "</pre>\n"
      ],
      "text/plain": [
       "\u001b[1m Non-trainable params: \u001b[0m\u001b[38;5;34m0\u001b[0m (0.00 B)\n"
      ]
     },
     "metadata": {},
     "output_type": "display_data"
    }
   ],
   "source": [
    "model = Sequential([\n",
    "    # Capa Conv1D para extracción de características locales\n",
    "    Input(shape=(2000, 1)),\n",
    "    Conv1D(filters=32, kernel_size=5, activation='relu'),\n",
    "    MaxPooling1D(pool_size=2),\n",
    "\n",
    "    # Primera capa LSTM\n",
    "    LSTM(64, return_sequences=True, kernel_regularizer='l2'),\n",
    "    Dropout(0.3),\n",
    "\n",
    "    # Segunda capa LSTM\n",
    "    LSTM(32, kernel_regularizer='l2'),\n",
    "    Dropout(0.3),\n",
    "\n",
    "    # Capa densa para reducción de dimensionalidad\n",
    "    Dense(64, activation='relu', kernel_regularizer='l2'),\n",
    "    Dropout(0.3),\n",
    "\n",
    "    # Capa de salida\n",
    "    Dense(4, activation='softmax')\n",
    "])\n",
    "\n",
    "# Compilación del modelo\n",
    "model.compile(optimizer='adam',\n",
    "              loss='sparse_categorical_crossentropy',\n",
    "              metrics=['accuracy'])\n",
    "\n",
    "# Resumen del modelo\n",
    "model.summary()\n"
   ]
  },
  {
   "cell_type": "markdown",
   "id": "bcbacce0-168a-49eb-8763-58bd5542a9a2",
   "metadata": {
    "id": "bcbacce0-168a-49eb-8763-58bd5542a9a2"
   },
   "source": [
    "### Entrenamiento del modelo LSTM"
   ]
  },
  {
   "cell_type": "code",
   "execution_count": null,
   "id": "ofJBcnsbPW_B",
   "metadata": {
    "id": "ofJBcnsbPW_B",
    "outputId": "2a485e12-85f5-43c5-facb-f7dc3b2b3dbe"
   },
   "outputs": [
    {
     "name": "stdout",
     "output_type": "stream",
     "text": [
      "Epoch 1/20\n",
      "\u001b[1m16/16\u001b[0m \u001b[32m━━━━━━━━━━━━━━━━━━━━\u001b[0m\u001b[37m\u001b[0m \u001b[1m15s\u001b[0m 711ms/step - accuracy: 0.2979 - loss: 3.1214 - val_accuracy: 0.3565 - val_loss: 2.7741\n",
      "Epoch 2/20\n",
      "\u001b[1m16/16\u001b[0m \u001b[32m━━━━━━━━━━━━━━━━━━━━\u001b[0m\u001b[37m\u001b[0m \u001b[1m10s\u001b[0m 601ms/step - accuracy: 0.4539 - loss: 2.6502 - val_accuracy: 0.5880 - val_loss: 2.2232\n",
      "Epoch 3/20\n",
      "\u001b[1m16/16\u001b[0m \u001b[32m━━━━━━━━━━━━━━━━━━━━\u001b[0m\u001b[37m\u001b[0m \u001b[1m9s\u001b[0m 563ms/step - accuracy: 0.5308 - loss: 2.1149 - val_accuracy: 0.5833 - val_loss: 1.7782\n",
      "Epoch 4/20\n",
      "\u001b[1m16/16\u001b[0m \u001b[32m━━━━━━━━━━━━━━━━━━━━\u001b[0m\u001b[37m\u001b[0m \u001b[1m13s\u001b[0m 839ms/step - accuracy: 0.5348 - loss: 1.7706 - val_accuracy: 0.6667 - val_loss: 1.5465\n",
      "Epoch 5/20\n",
      "\u001b[1m16/16\u001b[0m \u001b[32m━━━━━━━━━━━━━━━━━━━━\u001b[0m\u001b[37m\u001b[0m \u001b[1m14s\u001b[0m 878ms/step - accuracy: 0.6088 - loss: 1.6410 - val_accuracy: 0.5139 - val_loss: 1.5912\n",
      "Epoch 6/20\n",
      "\u001b[1m16/16\u001b[0m \u001b[32m━━━━━━━━━━━━━━━━━━━━\u001b[0m\u001b[37m\u001b[0m \u001b[1m11s\u001b[0m 696ms/step - accuracy: 0.4221 - loss: 1.8829 - val_accuracy: 0.6250 - val_loss: 1.5946\n",
      "Epoch 7/20\n",
      "\u001b[1m16/16\u001b[0m \u001b[32m━━━━━━━━━━━━━━━━━━━━\u001b[0m\u001b[37m\u001b[0m \u001b[1m11s\u001b[0m 711ms/step - accuracy: 0.5825 - loss: 1.5173 - val_accuracy: 0.6806 - val_loss: 1.3149\n",
      "Epoch 8/20\n",
      "\u001b[1m16/16\u001b[0m \u001b[32m━━━━━━━━━━━━━━━━━━━━\u001b[0m\u001b[37m\u001b[0m \u001b[1m11s\u001b[0m 654ms/step - accuracy: 0.6497 - loss: 1.3346 - val_accuracy: 0.7500 - val_loss: 1.0614\n",
      "Epoch 9/20\n",
      "\u001b[1m16/16\u001b[0m \u001b[32m━━━━━━━━━━━━━━━━━━━━\u001b[0m\u001b[37m\u001b[0m \u001b[1m11s\u001b[0m 714ms/step - accuracy: 0.7292 - loss: 1.0610 - val_accuracy: 0.7500 - val_loss: 0.8401\n",
      "Epoch 10/20\n",
      "\u001b[1m16/16\u001b[0m \u001b[32m━━━━━━━━━━━━━━━━━━━━\u001b[0m\u001b[37m\u001b[0m \u001b[1m12s\u001b[0m 761ms/step - accuracy: 0.7515 - loss: 0.8667 - val_accuracy: 0.9259 - val_loss: 0.7583\n",
      "Epoch 11/20\n",
      "\u001b[1m16/16\u001b[0m \u001b[32m━━━━━━━━━━━━━━━━━━━━\u001b[0m\u001b[37m\u001b[0m \u001b[1m10s\u001b[0m 648ms/step - accuracy: 0.7429 - loss: 0.9160 - val_accuracy: 0.7731 - val_loss: 0.7163\n",
      "Epoch 12/20\n",
      "\u001b[1m16/16\u001b[0m \u001b[32m━━━━━━━━━━━━━━━━━━━━\u001b[0m\u001b[37m\u001b[0m \u001b[1m12s\u001b[0m 770ms/step - accuracy: 0.7464 - loss: 0.9176 - val_accuracy: 0.7500 - val_loss: 0.7017\n",
      "Epoch 13/20\n",
      "\u001b[1m16/16\u001b[0m \u001b[32m━━━━━━━━━━━━━━━━━━━━\u001b[0m\u001b[37m\u001b[0m \u001b[1m11s\u001b[0m 691ms/step - accuracy: 0.7672 - loss: 0.7676 - val_accuracy: 0.7824 - val_loss: 0.6514\n",
      "Epoch 14/20\n",
      "\u001b[1m16/16\u001b[0m \u001b[32m━━━━━━━━━━━━━━━━━━━━\u001b[0m\u001b[37m\u001b[0m \u001b[1m12s\u001b[0m 767ms/step - accuracy: 0.8163 - loss: 0.7097 - val_accuracy: 0.9722 - val_loss: 0.5476\n",
      "Epoch 15/20\n",
      "\u001b[1m16/16\u001b[0m \u001b[32m━━━━━━━━━━━━━━━━━━━━\u001b[0m\u001b[37m\u001b[0m \u001b[1m11s\u001b[0m 666ms/step - accuracy: 0.8877 - loss: 0.6108 - val_accuracy: 0.9769 - val_loss: 0.4543\n",
      "Epoch 16/20\n",
      "\u001b[1m16/16\u001b[0m \u001b[32m━━━━━━━━━━━━━━━━━━━━\u001b[0m\u001b[37m\u001b[0m \u001b[1m12s\u001b[0m 750ms/step - accuracy: 0.9472 - loss: 0.5017 - val_accuracy: 0.9769 - val_loss: 0.4305\n",
      "Epoch 17/20\n",
      "\u001b[1m16/16\u001b[0m \u001b[32m━━━━━━━━━━━━━━━━━━━━\u001b[0m\u001b[37m\u001b[0m \u001b[1m12s\u001b[0m 734ms/step - accuracy: 0.9338 - loss: 0.5251 - val_accuracy: 0.8102 - val_loss: 0.7535\n",
      "Epoch 18/20\n",
      "\u001b[1m16/16\u001b[0m \u001b[32m━━━━━━━━━━━━━━━━━━━━\u001b[0m\u001b[37m\u001b[0m \u001b[1m14s\u001b[0m 885ms/step - accuracy: 0.9094 - loss: 0.5520 - val_accuracy: 0.9537 - val_loss: 0.4319\n",
      "Epoch 19/20\n",
      "\u001b[1m16/16\u001b[0m \u001b[32m━━━━━━━━━━━━━━━━━━━━\u001b[0m\u001b[37m\u001b[0m \u001b[1m11s\u001b[0m 703ms/step - accuracy: 0.9473 - loss: 0.4548 - val_accuracy: 0.8935 - val_loss: 0.5810\n",
      "Epoch 20/20\n",
      "\u001b[1m16/16\u001b[0m \u001b[32m━━━━━━━━━━━━━━━━━━━━\u001b[0m\u001b[37m\u001b[0m \u001b[1m12s\u001b[0m 747ms/step - accuracy: 0.9025 - loss: 0.5874 - val_accuracy: 0.9491 - val_loss: 0.3909\n"
     ]
    }
   ],
   "source": [
    "EPOCHS = 20\n",
    "BATCH_SIZE = 64\n",
    "# Configurar callbacks\n",
    "early_stopping = EarlyStopping(monitor='val_loss', patience=5, restore_best_weights=True)\n",
    "checkpoint = ModelCheckpoint('best_model_lstm.keras', monitor='val_loss', save_best_only=True)\n",
    "\n",
    "# Entrenar el modelo\n",
    "history = model.fit(\n",
    "    train_signals, train_labels,  # Datos de entrenamiento\n",
    "    validation_data=(val_signals, val_labels),  # Datos de validación\n",
    "    epochs=EPOCHS,\n",
    "    batch_size=BATCH_SIZE,\n",
    "    callbacks=[early_stopping, checkpoint],\n",
    "    verbose=1\n",
    ")"
   ]
  },
  {
   "cell_type": "markdown",
   "id": "2fa90607-24cb-42c0-ad94-62360cc2de54",
   "metadata": {
    "id": "2fa90607-24cb-42c0-ad94-62360cc2de54"
   },
   "source": [
    "### Representación gráfica de la Precisión y la Pérdida en el entrenamiento"
   ]
  },
  {
   "cell_type": "code",
   "execution_count": null,
   "id": "03682de2-2129-4c4b-9f64-afcb04c8eabc",
   "metadata": {
    "id": "03682de2-2129-4c4b-9f64-afcb04c8eabc",
    "outputId": "5fbed15d-c65f-41e6-b07d-1afbde6d14ea"
   },
   "outputs": [
    {
     "data": {
      "image/png": "[encoded data removed]",
      "text/plain": [
       "<Figure size 1400x500 with 2 Axes>"
      ]
     },
     "metadata": {},
     "output_type": "display_data"
    }
   ],
   "source": [
    "def plot_training_history(history):\n",
    "    # Crear subplots\n",
    "    fig, axes = plt.subplots(1, 2, figsize=(14, 5))\n",
    "\n",
    "    # Gráfico de precisión\n",
    "    axes[0].plot(history.history['accuracy'], label='Entrenamiento')\n",
    "    axes[0].plot(history.history['val_accuracy'], label='Validación')\n",
    "    axes[0].set_title('Precisión durante el entrenamiento')\n",
    "    axes[0].set_xlabel('Épocas')\n",
    "    axes[0].set_ylabel('Precisión')\n",
    "    axes[0].legend()\n",
    "    axes[0].grid()\n",
    "\n",
    "    # Gráfico de pérdida\n",
    "    axes[1].plot(history.history['loss'], label='Entrenamiento')\n",
    "    axes[1].plot(history.history['val_loss'], label='Validación')\n",
    "    axes[1].set_title('Pérdida durante el entrenamiento')\n",
    "    axes[1].set_xlabel('Épocas')\n",
    "    axes[1].set_ylabel('Pérdida')\n",
    "    axes[1].legend()\n",
    "    axes[1].grid()\n",
    "\n",
    "    # Mostrar gráficos\n",
    "    plt.tight_layout()\n",
    "    plt.show()\n",
    "\n",
    "# Llamar a la función con los resultados del entrenamiento\n",
    "plot_training_history(history)\n"
   ]
  },
  {
   "cell_type": "markdown",
   "id": "6a2da0cf-2148-48db-89e6-b28ea7c9edb1",
   "metadata": {
    "id": "6a2da0cf-2148-48db-89e6-b28ea7c9edb1"
   },
   "source": [
    "### Evaluación del modelo LSTM"
   ]
  },
  {
   "cell_type": "code",
   "execution_count": null,
   "id": "47e28879-2379-4028-a8cd-32ef9f65532d",
   "metadata": {
    "id": "47e28879-2379-4028-a8cd-32ef9f65532d",
    "outputId": "e6a93459-09be-4924-ca12-c5264fbea39a"
   },
   "outputs": [
    {
     "name": "stdout",
     "output_type": "stream",
     "text": [
      "\u001b[1m7/7\u001b[0m \u001b[32m━━━━━━━━━━━━━━━━━━━━\u001b[0m\u001b[37m\u001b[0m \u001b[1m2s\u001b[0m 162ms/step - accuracy: 0.9357 - loss: 0.4318\n",
      "Pérdida en prueba: 0.4319\n",
      "Precisión en prueba: 0.9352\n"
     ]
    }
   ],
   "source": [
    "best_model = load_model('best_model_lstm.keras')\n",
    "test_loss, test_accuracy = best_model.evaluate(test_signals, test_labels, verbose=1)\n",
    "\n",
    "print(f\"Pérdida en prueba: {test_loss:.4f}\")\n",
    "print(f\"Precisión en prueba: {test_accuracy:.4f}\")\n"
   ]
  },
  {
   "cell_type": "markdown",
   "id": "f4e09cb1-97e8-466a-91c0-afba437a9ccd",
   "metadata": {
    "id": "f4e09cb1-97e8-466a-91c0-afba437a9ccd"
   },
   "source": [
    "### Matriz de confusión"
   ]
  },
  {
   "cell_type": "code",
   "execution_count": null,
   "id": "df079913-4d4b-44e5-a8a6-f0d25a416531",
   "metadata": {
    "id": "df079913-4d4b-44e5-a8a6-f0d25a416531",
    "outputId": "7798da76-7264-4d51-d701-8866a4c07c37"
   },
   "outputs": [
    {
     "name": "stdout",
     "output_type": "stream",
     "text": [
      "\u001b[1m7/7\u001b[0m \u001b[32m━━━━━━━━━━━━━━━━━━━━\u001b[0m\u001b[37m\u001b[0m \u001b[1m1s\u001b[0m 157ms/step\n"
     ]
    },
    {
     "data": {
      "image/png": "[encoded data removed]",
      "text/plain": [
       "<Figure size 800x600 with 2 Axes>"
      ]
     },
     "metadata": {},
     "output_type": "display_data"
    },
    {
     "name": "stdout",
     "output_type": "stream",
     "text": [
      "Reporte de clasificación:\n",
      "              precision    recall  f1-score   support\n",
      "\n",
      "     Clase 0       0.86      1.00      0.92        54\n",
      "     Clase 1       1.00      0.83      0.91        54\n",
      "     Clase 2       1.00      0.91      0.95        54\n",
      "     Clase 3       0.92      1.00      0.96        54\n",
      "\n",
      "    accuracy                           0.94       216\n",
      "   macro avg       0.94      0.94      0.93       216\n",
      "weighted avg       0.94      0.94      0.93       216\n",
      "\n"
     ]
    }
   ],
   "source": [
    "y_pred = best_model.predict(test_signals)\n",
    "y_pred_classes = np.argmax(y_pred, axis=1)  # Convertir probabilidades en clases predichas\n",
    "\n",
    "# Calcular la matriz de confusión\n",
    "cm = confusion_matrix(test_labels, y_pred_classes)\n",
    "\n",
    "# Visualizar la matriz de confusión\n",
    "plt.figure(figsize=(8, 6))\n",
    "sns.heatmap(cm, annot=True, fmt='d', cmap='Blues', xticklabels=['Clase 0', 'Clase 1', 'Clase 2', 'Clase 3'], yticklabels=['Clase 0', 'Clase 1', 'Clase 2', 'Clase 3'])\n",
    "plt.xlabel('Predicciones')\n",
    "plt.ylabel('Verdadero')\n",
    "plt.title('Matriz de Confusión')\n",
    "plt.show()\n",
    "\n",
    "# Reporte de clasificación\n",
    "print(\"Reporte de clasificación:\")\n",
    "print(classification_report(test_labels, y_pred_classes, target_names=['Clase 0', 'Clase 1', 'Clase 2', 'Clase 3']))\n",
    "\n"
   ]
  }
 ],
 "metadata": {
  "colab": {
   "provenance": []
  },
  "kernelspec": {
   "display_name": "Python 3 (ipykernel)",
   "language": "python",
   "name": "python3"
  },
  "language_info": {
   "codemirror_mode": {
    "name": "ipython",
    "version": 3
   },
   "file_extension": ".py",
   "mimetype": "text/x-python",
   "name": "python",
   "nbconvert_exporter": "python",
   "pygments_lexer": "ipython3",
   "version": "3.9.21"
  }
 },
 "nbformat": 4,
 "nbformat_minor": 5
}
